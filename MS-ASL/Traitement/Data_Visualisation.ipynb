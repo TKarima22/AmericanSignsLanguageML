{
 "cells": [
  {
   "cell_type": "code",
   "execution_count": 2,
   "metadata": {
    "collapsed": true,
    "ExecuteTime": {
     "end_time": "2023-10-26T07:43:39.384131400Z",
     "start_time": "2023-10-26T07:43:39.364392400Z"
    }
   },
   "outputs": [],
   "source": [
    "import pandas as pd"
   ]
  },
  {
   "cell_type": "code",
   "execution_count": 4,
   "outputs": [],
   "source": [
    "data=pd.read_csv(\"..\\\\csv_data\\\\MSASL_test.csv\")"
   ],
   "metadata": {
    "collapsed": false,
    "ExecuteTime": {
     "end_time": "2023-10-26T07:55:02.770079600Z",
     "start_time": "2023-10-26T07:55:02.720510500Z"
    }
   }
  },
  {
   "cell_type": "code",
   "execution_count": 5,
   "outputs": [
    {
     "data": {
      "text/plain": "       org_text clean_text  start_time  signer_id  signer  start   end  \\\n0          beer       beer         0.0       20.0    40.0    0.0  59.0   \n1         enjoy      enjoy         0.0       11.0    39.0    0.0  54.0   \n2     emotional  emotional         0.0       20.0    40.0    0.0  30.0   \n3           key        key         0.0       92.0    -1.0    0.0  37.0   \n4           bad        bad         0.0       11.0    39.0    0.0  36.0   \n...         ...        ...         ...        ...     ...    ...   ...   \n4170       flag       flag         0.0       11.0    39.0    0.0  50.0   \n4171       pain       hurt         0.0       11.0    39.0    0.0  49.0   \n4172        NaN        NaN         NaN        NaN     NaN    NaN   NaN   \n4173        NaN        NaN         NaN        NaN     NaN    NaN   NaN   \n4174        NaN        NaN         NaN        NaN     NaN    NaN   NaN   \n\n                      file  label  height     fps  end_time  \\\n0      SignSchool Beer var  805.0   360.0  29.970     1.969   \n1                 enjoy(1)  192.0   360.0  29.970     1.802   \n2     SignSchool Emotional  907.0   360.0  23.976     1.251   \n3           SignSchool Key  456.0   360.0  23.976     1.543   \n4                      BAD   81.0   360.0  29.970     1.201   \n...                    ...    ...     ...     ...       ...   \n4170                  FLAG  653.0   360.0  29.970     1.668   \n4171                  PAIN   76.0   360.0  29.970     1.635   \n4172                   NaN    NaN     NaN     NaN       NaN   \n4173                   NaN    NaN     NaN     NaN       NaN   \n4174                   NaN    NaN     NaN     NaN       NaN   \n\n                                      url       text       box  width  review  \n0     www.youtube.com/watch?v=wX78EPtSuzU       beer  0.046787  640.0     NaN  \n1     www.youtube.com/watch?v=OL02Odh2dRg      enjoy  0.071451  480.0     NaN  \n2     www.youtube.com/watch?v=C59jcSo4fEI  emotional  0.059554  640.0     NaN  \n3     www.youtube.com/watch?v=Qs2ua1S6tg0        key  0.114629  640.0     NaN  \n4     www.youtube.com/watch?v=-kgTBeOw95A        bad  0.040453  480.0     NaN  \n...                                   ...        ...       ...    ...     ...  \n4170  www.youtube.com/watch?v=wX3nAn_EbyQ       flag  0.039640  480.0     NaN  \n4171  www.youtube.com/watch?v=PUeBxtWPPFw       hurt  0.106082  480.0     NaN  \n4172                                  NaN        NaN  0.163195    NaN     NaN  \n4173                                  NaN        NaN  1.000000    NaN     NaN  \n4174                                  NaN        NaN  0.839355    NaN     NaN  \n\n[4175 rows x 17 columns]",
      "text/html": "<div>\n<style scoped>\n    .dataframe tbody tr th:only-of-type {\n        vertical-align: middle;\n    }\n\n    .dataframe tbody tr th {\n        vertical-align: top;\n    }\n\n    .dataframe thead th {\n        text-align: right;\n    }\n</style>\n<table border=\"1\" class=\"dataframe\">\n  <thead>\n    <tr style=\"text-align: right;\">\n      <th></th>\n      <th>org_text</th>\n      <th>clean_text</th>\n      <th>start_time</th>\n      <th>signer_id</th>\n      <th>signer</th>\n      <th>start</th>\n      <th>end</th>\n      <th>file</th>\n      <th>label</th>\n      <th>height</th>\n      <th>fps</th>\n      <th>end_time</th>\n      <th>url</th>\n      <th>text</th>\n      <th>box</th>\n      <th>width</th>\n      <th>review</th>\n    </tr>\n  </thead>\n  <tbody>\n    <tr>\n      <th>0</th>\n      <td>beer</td>\n      <td>beer</td>\n      <td>0.0</td>\n      <td>20.0</td>\n      <td>40.0</td>\n      <td>0.0</td>\n      <td>59.0</td>\n      <td>SignSchool Beer var</td>\n      <td>805.0</td>\n      <td>360.0</td>\n      <td>29.970</td>\n      <td>1.969</td>\n      <td>www.youtube.com/watch?v=wX78EPtSuzU</td>\n      <td>beer</td>\n      <td>0.046787</td>\n      <td>640.0</td>\n      <td>NaN</td>\n    </tr>\n    <tr>\n      <th>1</th>\n      <td>enjoy</td>\n      <td>enjoy</td>\n      <td>0.0</td>\n      <td>11.0</td>\n      <td>39.0</td>\n      <td>0.0</td>\n      <td>54.0</td>\n      <td>enjoy(1)</td>\n      <td>192.0</td>\n      <td>360.0</td>\n      <td>29.970</td>\n      <td>1.802</td>\n      <td>www.youtube.com/watch?v=OL02Odh2dRg</td>\n      <td>enjoy</td>\n      <td>0.071451</td>\n      <td>480.0</td>\n      <td>NaN</td>\n    </tr>\n    <tr>\n      <th>2</th>\n      <td>emotional</td>\n      <td>emotional</td>\n      <td>0.0</td>\n      <td>20.0</td>\n      <td>40.0</td>\n      <td>0.0</td>\n      <td>30.0</td>\n      <td>SignSchool Emotional</td>\n      <td>907.0</td>\n      <td>360.0</td>\n      <td>23.976</td>\n      <td>1.251</td>\n      <td>www.youtube.com/watch?v=C59jcSo4fEI</td>\n      <td>emotional</td>\n      <td>0.059554</td>\n      <td>640.0</td>\n      <td>NaN</td>\n    </tr>\n    <tr>\n      <th>3</th>\n      <td>key</td>\n      <td>key</td>\n      <td>0.0</td>\n      <td>92.0</td>\n      <td>-1.0</td>\n      <td>0.0</td>\n      <td>37.0</td>\n      <td>SignSchool Key</td>\n      <td>456.0</td>\n      <td>360.0</td>\n      <td>23.976</td>\n      <td>1.543</td>\n      <td>www.youtube.com/watch?v=Qs2ua1S6tg0</td>\n      <td>key</td>\n      <td>0.114629</td>\n      <td>640.0</td>\n      <td>NaN</td>\n    </tr>\n    <tr>\n      <th>4</th>\n      <td>bad</td>\n      <td>bad</td>\n      <td>0.0</td>\n      <td>11.0</td>\n      <td>39.0</td>\n      <td>0.0</td>\n      <td>36.0</td>\n      <td>BAD</td>\n      <td>81.0</td>\n      <td>360.0</td>\n      <td>29.970</td>\n      <td>1.201</td>\n      <td>www.youtube.com/watch?v=-kgTBeOw95A</td>\n      <td>bad</td>\n      <td>0.040453</td>\n      <td>480.0</td>\n      <td>NaN</td>\n    </tr>\n    <tr>\n      <th>...</th>\n      <td>...</td>\n      <td>...</td>\n      <td>...</td>\n      <td>...</td>\n      <td>...</td>\n      <td>...</td>\n      <td>...</td>\n      <td>...</td>\n      <td>...</td>\n      <td>...</td>\n      <td>...</td>\n      <td>...</td>\n      <td>...</td>\n      <td>...</td>\n      <td>...</td>\n      <td>...</td>\n      <td>...</td>\n    </tr>\n    <tr>\n      <th>4170</th>\n      <td>flag</td>\n      <td>flag</td>\n      <td>0.0</td>\n      <td>11.0</td>\n      <td>39.0</td>\n      <td>0.0</td>\n      <td>50.0</td>\n      <td>FLAG</td>\n      <td>653.0</td>\n      <td>360.0</td>\n      <td>29.970</td>\n      <td>1.668</td>\n      <td>www.youtube.com/watch?v=wX3nAn_EbyQ</td>\n      <td>flag</td>\n      <td>0.039640</td>\n      <td>480.0</td>\n      <td>NaN</td>\n    </tr>\n    <tr>\n      <th>4171</th>\n      <td>pain</td>\n      <td>hurt</td>\n      <td>0.0</td>\n      <td>11.0</td>\n      <td>39.0</td>\n      <td>0.0</td>\n      <td>49.0</td>\n      <td>PAIN</td>\n      <td>76.0</td>\n      <td>360.0</td>\n      <td>29.970</td>\n      <td>1.635</td>\n      <td>www.youtube.com/watch?v=PUeBxtWPPFw</td>\n      <td>hurt</td>\n      <td>0.106082</td>\n      <td>480.0</td>\n      <td>NaN</td>\n    </tr>\n    <tr>\n      <th>4172</th>\n      <td>NaN</td>\n      <td>NaN</td>\n      <td>NaN</td>\n      <td>NaN</td>\n      <td>NaN</td>\n      <td>NaN</td>\n      <td>NaN</td>\n      <td>NaN</td>\n      <td>NaN</td>\n      <td>NaN</td>\n      <td>NaN</td>\n      <td>NaN</td>\n      <td>NaN</td>\n      <td>NaN</td>\n      <td>0.163195</td>\n      <td>NaN</td>\n      <td>NaN</td>\n    </tr>\n    <tr>\n      <th>4173</th>\n      <td>NaN</td>\n      <td>NaN</td>\n      <td>NaN</td>\n      <td>NaN</td>\n      <td>NaN</td>\n      <td>NaN</td>\n      <td>NaN</td>\n      <td>NaN</td>\n      <td>NaN</td>\n      <td>NaN</td>\n      <td>NaN</td>\n      <td>NaN</td>\n      <td>NaN</td>\n      <td>NaN</td>\n      <td>1.000000</td>\n      <td>NaN</td>\n      <td>NaN</td>\n    </tr>\n    <tr>\n      <th>4174</th>\n      <td>NaN</td>\n      <td>NaN</td>\n      <td>NaN</td>\n      <td>NaN</td>\n      <td>NaN</td>\n      <td>NaN</td>\n      <td>NaN</td>\n      <td>NaN</td>\n      <td>NaN</td>\n      <td>NaN</td>\n      <td>NaN</td>\n      <td>NaN</td>\n      <td>NaN</td>\n      <td>NaN</td>\n      <td>0.839355</td>\n      <td>NaN</td>\n      <td>NaN</td>\n    </tr>\n  </tbody>\n</table>\n<p>4175 rows × 17 columns</p>\n</div>"
     },
     "execution_count": 5,
     "metadata": {},
     "output_type": "execute_result"
    }
   ],
   "source": [
    "data"
   ],
   "metadata": {
    "collapsed": false,
    "ExecuteTime": {
     "end_time": "2023-10-26T07:55:10.133916Z",
     "start_time": "2023-10-26T07:55:10.056306800Z"
    }
   }
  },
  {
   "cell_type": "code",
   "execution_count": 6,
   "outputs": [
    {
     "data": {
      "text/plain": "        start_time    signer_id       signer         start           end  \\\ncount  4172.000000  4172.000000  4172.000000   4172.000000   4172.000000   \nmean     68.141974    47.976510    19.357383   2041.918025   2110.314238   \nstd      93.214288    68.042799    14.709886   2794.521657   2803.896187   \nmin       0.000000     9.000000    -1.000000      0.000000     17.000000   \n25%       0.000000    20.000000     8.000000      0.000000     63.000000   \n50%      34.931500    26.000000    20.000000   1042.000000   1110.000000   \n75%     100.166500    34.000000    29.000000   3001.750000   3091.500000   \nmax     556.556000   441.000000    73.000000  16680.000000  16761.000000   \n\n             label       height          fps     end_time          box  \\\ncount  4172.000000  4172.000000  4172.000000  4172.000000  4175.000000   \nmean    396.544104   569.597315    29.294977    70.479537     0.087417   \nstd     284.425272   177.571273     2.318141    93.487180     0.072993   \nmin       0.000000   360.000000    15.000000     0.709000     0.000000   \n25%     146.000000   360.000000    29.970000     2.137000     0.034999   \n50%     349.000000   720.000000    29.970000    37.233500     0.075185   \n75%     621.000000   720.000000    29.970000   103.152750     0.125661   \nmax     999.000000   720.000000    30.796000   559.259000     1.000000   \n\n             width  review  \ncount  4172.000000   800.0  \nmean    974.812081     1.0  \nstd     354.681797     0.0  \nmin     360.000000     1.0  \n25%     640.000000     1.0  \n50%    1280.000000     1.0  \n75%    1280.000000     1.0  \nmax    1280.000000     1.0  ",
      "text/html": "<div>\n<style scoped>\n    .dataframe tbody tr th:only-of-type {\n        vertical-align: middle;\n    }\n\n    .dataframe tbody tr th {\n        vertical-align: top;\n    }\n\n    .dataframe thead th {\n        text-align: right;\n    }\n</style>\n<table border=\"1\" class=\"dataframe\">\n  <thead>\n    <tr style=\"text-align: right;\">\n      <th></th>\n      <th>start_time</th>\n      <th>signer_id</th>\n      <th>signer</th>\n      <th>start</th>\n      <th>end</th>\n      <th>label</th>\n      <th>height</th>\n      <th>fps</th>\n      <th>end_time</th>\n      <th>box</th>\n      <th>width</th>\n      <th>review</th>\n    </tr>\n  </thead>\n  <tbody>\n    <tr>\n      <th>count</th>\n      <td>4172.000000</td>\n      <td>4172.000000</td>\n      <td>4172.000000</td>\n      <td>4172.000000</td>\n      <td>4172.000000</td>\n      <td>4172.000000</td>\n      <td>4172.000000</td>\n      <td>4172.000000</td>\n      <td>4172.000000</td>\n      <td>4175.000000</td>\n      <td>4172.000000</td>\n      <td>800.0</td>\n    </tr>\n    <tr>\n      <th>mean</th>\n      <td>68.141974</td>\n      <td>47.976510</td>\n      <td>19.357383</td>\n      <td>2041.918025</td>\n      <td>2110.314238</td>\n      <td>396.544104</td>\n      <td>569.597315</td>\n      <td>29.294977</td>\n      <td>70.479537</td>\n      <td>0.087417</td>\n      <td>974.812081</td>\n      <td>1.0</td>\n    </tr>\n    <tr>\n      <th>std</th>\n      <td>93.214288</td>\n      <td>68.042799</td>\n      <td>14.709886</td>\n      <td>2794.521657</td>\n      <td>2803.896187</td>\n      <td>284.425272</td>\n      <td>177.571273</td>\n      <td>2.318141</td>\n      <td>93.487180</td>\n      <td>0.072993</td>\n      <td>354.681797</td>\n      <td>0.0</td>\n    </tr>\n    <tr>\n      <th>min</th>\n      <td>0.000000</td>\n      <td>9.000000</td>\n      <td>-1.000000</td>\n      <td>0.000000</td>\n      <td>17.000000</td>\n      <td>0.000000</td>\n      <td>360.000000</td>\n      <td>15.000000</td>\n      <td>0.709000</td>\n      <td>0.000000</td>\n      <td>360.000000</td>\n      <td>1.0</td>\n    </tr>\n    <tr>\n      <th>25%</th>\n      <td>0.000000</td>\n      <td>20.000000</td>\n      <td>8.000000</td>\n      <td>0.000000</td>\n      <td>63.000000</td>\n      <td>146.000000</td>\n      <td>360.000000</td>\n      <td>29.970000</td>\n      <td>2.137000</td>\n      <td>0.034999</td>\n      <td>640.000000</td>\n      <td>1.0</td>\n    </tr>\n    <tr>\n      <th>50%</th>\n      <td>34.931500</td>\n      <td>26.000000</td>\n      <td>20.000000</td>\n      <td>1042.000000</td>\n      <td>1110.000000</td>\n      <td>349.000000</td>\n      <td>720.000000</td>\n      <td>29.970000</td>\n      <td>37.233500</td>\n      <td>0.075185</td>\n      <td>1280.000000</td>\n      <td>1.0</td>\n    </tr>\n    <tr>\n      <th>75%</th>\n      <td>100.166500</td>\n      <td>34.000000</td>\n      <td>29.000000</td>\n      <td>3001.750000</td>\n      <td>3091.500000</td>\n      <td>621.000000</td>\n      <td>720.000000</td>\n      <td>29.970000</td>\n      <td>103.152750</td>\n      <td>0.125661</td>\n      <td>1280.000000</td>\n      <td>1.0</td>\n    </tr>\n    <tr>\n      <th>max</th>\n      <td>556.556000</td>\n      <td>441.000000</td>\n      <td>73.000000</td>\n      <td>16680.000000</td>\n      <td>16761.000000</td>\n      <td>999.000000</td>\n      <td>720.000000</td>\n      <td>30.796000</td>\n      <td>559.259000</td>\n      <td>1.000000</td>\n      <td>1280.000000</td>\n      <td>1.0</td>\n    </tr>\n  </tbody>\n</table>\n</div>"
     },
     "execution_count": 6,
     "metadata": {},
     "output_type": "execute_result"
    }
   ],
   "source": [
    "data.describe()"
   ],
   "metadata": {
    "collapsed": false,
    "ExecuteTime": {
     "end_time": "2023-10-26T07:55:33.166577500Z",
     "start_time": "2023-10-26T07:55:33.067951100Z"
    }
   }
  },
  {
   "cell_type": "code",
   "execution_count": 7,
   "outputs": [],
   "source": [],
   "metadata": {
    "collapsed": false,
    "ExecuteTime": {
     "end_time": "2023-10-26T07:56:51.964965Z",
     "start_time": "2023-10-26T07:56:51.943492900Z"
    }
   }
  },
  {
   "cell_type": "code",
   "execution_count": null,
   "outputs": [],
   "source": [],
   "metadata": {
    "collapsed": false
   }
  }
 ],
 "metadata": {
  "kernelspec": {
   "display_name": "Python 3",
   "language": "python",
   "name": "python3"
  },
  "language_info": {
   "codemirror_mode": {
    "name": "ipython",
    "version": 2
   },
   "file_extension": ".py",
   "mimetype": "text/x-python",
   "name": "python",
   "nbconvert_exporter": "python",
   "pygments_lexer": "ipython2",
   "version": "2.7.6"
  }
 },
 "nbformat": 4,
 "nbformat_minor": 0
}
